{
 "cells": [
  {
   "cell_type": "markdown",
   "metadata": {},
   "source": [
    "<center><font face=\"Times New ROman\" size=\"10\" color=\"#000080\">- NA01 -</font></center>\n",
    "<br>\n",
    "<br><center><font face=\"Times New ROman\" size=\"6\" color=\"#000000\">- Dissertação -</font>"
   ]
  },
  {
   "cell_type": "code",
   "execution_count": 1,
   "metadata": {
    "collapsed": true
   },
   "outputs": [],
   "source": [
    "%matplotlib inline\n",
    "from pylab import *\n",
    "import scipy as sp\n",
    "import numpy as np\n",
    "import matplotlib.pyplot as plt\n",
    "import matplotlib.patches as mpatches\n",
    "from matplotlib.gridspec import GridSpec"
   ]
  },
  {
   "cell_type": "code",
   "execution_count": 2,
   "metadata": {
    "collapsed": false
   },
   "outputs": [
    {
     "name": "stdout",
     "output_type": "stream",
     "text": [
      "7878 - comprimento original, antes da divisao\n",
      "1313 - comprimento de uma unica coluna\n"
     ]
    }
   ],
   "source": [
    "#--------------------------Armazenando os Dados-------------------------------#\n",
    "\n",
    "data  = np.fromfile('NA01.dat', dtype=float, count=-1, sep='\t')\n",
    "\n",
    "p  = len(data)/6 \n",
    "\n",
    "print (len(data)),'- comprimento original, antes da divisao'\n",
    "print (p),'- comprimento de uma unica coluna'\n",
    "\n",
    "data  = np.reshape(data, (len(data)/6,6))"
   ]
  },
  {
   "cell_type": "code",
   "execution_count": null,
   "metadata": {
    "collapsed": true
   },
   "outputs": [],
   "source": []
  }
 ],
 "metadata": {
  "kernelspec": {
   "display_name": "Python 2",
   "language": "python",
   "name": "python2"
  },
  "language_info": {
   "codemirror_mode": {
    "name": "ipython",
    "version": 2
   },
   "file_extension": ".py",
   "mimetype": "text/x-python",
   "name": "python",
   "nbconvert_exporter": "python",
   "pygments_lexer": "ipython2",
   "version": "2.7.10"
  }
 },
 "nbformat": 4,
 "nbformat_minor": 0
}
